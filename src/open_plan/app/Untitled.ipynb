{
 "cells": [
  {
   "cell_type": "code",
   "execution_count": 1,
   "id": "06d0342d-973d-4eab-a414-1c6da39ce5e0",
   "metadata": {},
   "outputs": [],
   "source": [
    "import os\n",
    "from exchangelib import Account, Credentials, Mailbox, Message, Configuration\n",
    "import logging\n",
    "\n",
    "\n",
    "logger = logging.getLogger(__name__)\n",
    "\n",
    "# email account which will send the feedback emails\n",
    "EXCHANGE_ACCOUNT = os.getenv(\"EXCHANGE_ACCOUNT\")\n",
    "EXCHANGE_PW = os.getenv(\"EXCHANGE_PW\")\n",
    "EXCHANGE_EMAIL = os.getenv(\"EXCHANGE_EMAIL\")\n",
    "# email addresses to which the feedback emails will be sent\n",
    "RECIPIENTS = os.getenv(\"RECIPIENTS\").split(\",\")\n",
    "\n",
    "\n",
    "\n",
    "def send_feedback_email(subject, body):\n",
    "    try:\n",
    "        credentials = Credentials(EXCHANGE_ACCOUNT, EXCHANGE_PW)\n",
    "        account = Account(\n",
    "            EXCHANGE_EMAIL, credentials=credentials, autodiscover=True\n",
    "        )\n",
    "        recipients = [\n",
    "            Mailbox(email_address=recipient) for recipient in RECIPIENTS\n",
    "        ]\n",
    "        mail = Message(\n",
    "            account=account,\n",
    "            folder=account.sent,\n",
    "            subject=subject,\n",
    "            body=body,\n",
    "            to_recipients=recipients,\n",
    "        )\n",
    "        mail.send_and_save()\n",
    "    except Exception as ex:\n",
    "        logger.warning(f\"Couldn't send feedback email. Exception raised: {ex}.\")\n"
   ]
  },
  {
   "cell_type": "code",
   "execution_count": null,
   "id": "9092877b-fbc2-41d6-9dee-8017d93ff43c",
   "metadata": {},
   "outputs": [],
   "source": []
  },
  {
   "cell_type": "code",
   "execution_count": null,
   "id": "5be3adf9-7b95-41c5-b622-86106e80affc",
   "metadata": {},
   "outputs": [],
   "source": []
  },
  {
   "cell_type": "code",
   "execution_count": 2,
   "id": "450ae80b-1ab8-48a9-b729-d2fa5b9a2aa9",
   "metadata": {},
   "outputs": [
    {
     "data": {
      "text/plain": [
       "'service@rl-institut.de'"
      ]
     },
     "execution_count": 2,
     "metadata": {},
     "output_type": "execute_result"
    }
   ],
   "source": [
    "EXCHANGE_EMAIL"
   ]
  },
  {
   "cell_type": "code",
   "execution_count": 3,
   "id": "b720fa68-f887-417b-8576-e5a8f38ddcb0",
   "metadata": {},
   "outputs": [],
   "source": [
    "date = \"2021-09-21\"\n",
    "SUBJECT = \"test\"\n",
    "FEEDBACK = \"text about test\"\n",
    "Name = \"pf\"\n",
    "email = \"test@rl-institut.de\"\n",
    "username = \"testUser\" \n",
    "\n",
    "body = f\"\"\"\n",
    "Feedback form for Energy Planning Application\n",
    "\n",
    "Received Feedback\n",
    "-----------------\n",
    "\n",
    "Date: {date}\n",
    "Topic: {SUBJECT}\n",
    "Content: {FEEDBACK}\n",
    "\n",
    "Infromation about sender\n",
    "------------------------\n",
    "Name: {Name}\n",
    "E-mail Adress: {email}\n",
    "User-ID: {username}\n",
    "\n",
    "\"\"\"\n",
    "\n",
    "send_feedback_email(\"[E-LAND] [EPA] Feedback for EPA submitted by {Name}\", body)"
   ]
  },
  {
   "cell_type": "code",
   "execution_count": 1,
   "id": "55536a8e-4e69-4a90-85fc-f5ba4cec7dd0",
   "metadata": {},
   "outputs": [],
   "source": [
    "from exchangelib import Account, Credentials, Mailbox, Message\n",
    "\n",
    "\n",
    "EXCHANGE_ACCOUNT = \"service@rl-institut.de\"\n",
    "EXCHANGE_PW = \"dQ2CEwV0K4Z\"\n",
    "EXCHANGE_EMAIL = \"service@rl-institut.de\"\n",
    "\n",
    "RECIPIENTS = [\"pierre-francois.duc@rl-institut.de\", \"martha.hoffmann@rl-institut.de\"]\n",
    "\n",
    "credentials = Credentials(EXCHANGE_ACCOUNT, EXCHANGE_PW)\n",
    "account = Account(\n",
    "    EXCHANGE_EMAIL, credentials=credentials, autodiscover=True\n",
    ")\n",
    "recipients = [\n",
    "    Mailbox(email_address=recipient) for recipient in RECIPIENTS\n",
    "]\n",
    "mail = Message(\n",
    "    account=account,\n",
    "    folder=account.sent,\n",
    "    subject=\"Betreff\",\n",
    "    body=\"Das ist eine Nachricht\",\n",
    "    to_recipients=recipients,\n",
    ")\n",
    "mail.send_and_save()"
   ]
  },
  {
   "cell_type": "code",
   "execution_count": 29,
   "id": "42968090-5d32-4f94-864c-c9b858d6f9af",
   "metadata": {},
   "outputs": [],
   "source": [
    "# CREATE deepL translation\n",
    "\n",
    "german_file = \"german_to_mix.txt\"\n",
    "po_in_file = \"to_translate.txt\"\n",
    "po_out_file = \"translation_to_proof.txt\"\n",
    "\n",
    "# deepL translation of django.po\n",
    "with open(f\"locale/de/LC_MESSAGES/{german_file}\",\"r\") as fp:\n",
    "    lines = fp.readlines()\n",
    "\n",
    "msgids = []\n",
    "msgstr = []\n",
    "long_line = False\n",
    "\n",
    "for l in lines:\n",
    "    #print(\"line: \" + l)\n",
    "    #print(\"line short: \" + l[:6])\n",
    "    \n",
    "    if l[:5] == \"msgid\":\n",
    "        if l[6:8] == '\"\"':\n",
    "            long_line = True\n",
    "        else:\n",
    "            msgids.append(l.replace(\"msgid\", \"msgstr\"))\n",
    "    elif l[:6] == \"msgstr\":\n",
    "        #print(msgstr)\n",
    "        long_line = False\n",
    "        if len(msgstr) > 0:\n",
    "            msgids.append(tuple(msgstr))\n",
    "            msgstr = []\n",
    "    elif long_line is True:\n",
    "        msgstr.append(l)\n",
    "    #print(long_line)\n",
    "\n",
    "with open(f\"locale/de/LC_MESSAGES/{po_in_file}\",\"r\") as fp:\n",
    "    tr_lines = fp.readlines()\n",
    "\n",
    "i = -1\n",
    "new_lines = []\n",
    "for l in tr_lines:\n",
    "    if l[:6] == \"msgstr\":\n",
    "        if i ==-1:\n",
    "            new_lines.append(l)\n",
    "        elif i > -1:\n",
    "            translation = msgids[i]\n",
    "            if isinstance(translation, str):\n",
    "                new_lines.append(translation)\n",
    "            else:\n",
    "                new_lines.append('msgstr \"\" \\n')\n",
    "                for tr in translation:\n",
    "                    new_lines.append(tr + \"\\n\")\n",
    "        i = i + 1\n",
    "    else:\n",
    "        new_lines.append(l)\n",
    "\n",
    "# deepL translation inserted into django.po\n",
    "with open(f\"locale/de/LC_MESSAGES/{po_out_file}\",\"w\") as fp:\n",
    "    fp.writelines(new_lines)"
   ]
  },
  {
   "cell_type": "code",
   "execution_count": 49,
   "id": "5e16757d-3ad6-4ac6-be2b-ebbbaec4e49b",
   "metadata": {},
   "outputs": [],
   "source": []
  },
  {
   "cell_type": "code",
   "execution_count": 27,
   "id": "2272846c-55c5-4ed4-a5fc-dab81fb15af0",
   "metadata": {},
   "outputs": [],
   "source": [
    "import pandas as pd\n",
    "\n",
    "df = pd.read_csv(\"cdn_static_root/MVS_parameters_list.csv\", index_col=\"label\")\n",
    "#df = df.set_index(\"label\")"
   ]
  },
  {
   "cell_type": "code",
   "execution_count": 2,
   "id": "78a97a07-4256-4016-963d-1dfda728f062",
   "metadata": {},
   "outputs": [],
   "source": [
    "import csv\n",
    "\n",
    "with open(\"cdn_static_root/MVS_parameters_list.csv\") as csvfile:\n",
    "    spamreader = csv.reader(csvfile, delimiter=',', quotechar='\"')\n",
    "    parameter_dict = {}\n",
    "    for i, row in enumerate(spamreader):\n",
    "        #print(row)\n",
    "        if i == 0:\n",
    "            hdr = row\n",
    "            label_idx = hdr.index(\"label\")\n",
    "            verbose_idx = hdr.index(\"verbose\")\n",
    "        else:\n",
    "            label = row[label_idx]\n",
    "            verbose = row[verbose_idx]\n",
    "            if verbose != \"None\":\n",
    "                row[label_idx] = verbose\n",
    "            parameter_dict[label] = {k: v for k, v in zip(hdr,row)}\n",
    "            \n",
    "        # get the label out and map the label to a dict formed with headers and each row\n",
    "\n"
   ]
  },
  {
   "cell_type": "code",
   "execution_count": 3,
   "id": "b4b75ab8-3f28-49f8-9eca-1cf6eb0c05c7",
   "metadata": {},
   "outputs": [
    {
     "data": {
      "text/plain": [
       "{'verbose': 'Discount factor',\n",
       " ':Default:': 'None',\n",
       " ':Definition:': 'Discount factor is the factor which accounts for the depreciation in the value of money in the future, compared to the current value of the same money. The common method is to calculate the weighted average cost of capital (WACC) and use it as the discount rate.',\n",
       " ':Example:': '0.06',\n",
       " ':Restrictions:': 'Between 0 and 1',\n",
       " ':Type:': 'numeric',\n",
       " ':Unit:': 'Factor',\n",
       " 'label': 'Discount factor',\n",
       " 'ref': 'discountfactor-label',\n",
       " 'category': 'economic_data',\n",
       " 'see_also': ''}"
      ]
     },
     "execution_count": 3,
     "metadata": {},
     "output_type": "execute_result"
    }
   ],
   "source": [
    "verbose_idx\n",
    "parameter_dict[\"discount_factor\"]"
   ]
  },
  {
   "cell_type": "code",
   "execution_count": 24,
   "id": "6fd6280e-fd43-4722-8d24-9e9a8178bc3a",
   "metadata": {},
   "outputs": [],
   "source": [
    "# procedure:\n",
    "# 1. make sure all descriptions and units from the parameter description file are added to the pickle (add some lines in forms.py)\n",
    "# 2. check that there is no duplicate of existing translations in the po file (TODO write a script to compare the msgid)\n",
    "# 3. write a file (\"to_translate.txt\") to translate with the script of this page\n",
    "# 4. translate it on deepL\n",
    "# 5. paste the content of deepL in the file \"german_to_mix.txt\"\n",
    "# 6. Add an empty msgid, msgstr couple at the beginning of the \"to_translate.txt\" file \n",
    "# 7. Run the script \"CREATE deepL translation\"\n",
    "# 8. send the file \"translation_to_proof.txt\" to proof the translation\n",
    "# 9. copy the content of the file in the django.po file (except the empty msgid, msgstr couple)\n",
    "# 10. run python manage.py compilemessages\n",
    "# 11. DONE :)\n",
    "\n",
    "\n",
    "\n",
    "import pickle\n",
    "import os\n",
    "\n",
    "lang = \"de\"\n",
    "\n",
    "with open(f\"cdn_static_root/personal_translation_{lang}.pickle\", 'rb') as handle:\n",
    "    trans_dict = pickle.load(handle)\n",
    "\n",
    "with open(os.path.join(\"locale\", lang, \"LC_MESSAGES\", f'personal_translation_{lang}.po'),'w') as fp:\n",
    "    lines = []\n",
    "    for item in trans_dict:\n",
    "        item = item.replace('\"', \"'\")\n",
    "        lines = lines + [f'msgid \"{item}\"', 'msgstr \"\"', \"\"]\n",
    "    fp.writelines(\"\\n\".join(lines))\n"
   ]
  },
  {
   "cell_type": "code",
   "execution_count": 40,
   "id": "6dc5182a-abb5-4d83-94e0-6ec7e5dc1020",
   "metadata": {},
   "outputs": [
    {
     "data": {
      "text/plain": [
       "{'A fixed cost to implement the asset, eg. planning costs which do not depend on the (optimized) asset capacity.': '',\n",
       " 'Actual CAPEX of an asset, i.e., specific investment costs': '',\n",
       " 'Actual OPEX of an asset, i.e., specific operational and maintenance costs.': '',\n",
       " 'Variable cost associated with a flow through/from the asset (eg. Euro/kWh).': '',\n",
       " 'Number of operational years of the asset until it has to be replaced.': '',\n",
       " 'Ratio of energy output/energy input. The battery efficiency is the ratio of the energy taken out from the battery, to the energy put into the battery. It means that it is not possible to retrieve as much energy as provided to the battery due to the discharge losses. The efficiency of the \"input power\" and \"ouput power\" columns should be set equal to the charge and dischage efficiencies respectively, while the \"storage capacity\" efficiency should be equal to the storage\\'s efficiency/ability to hold charge over time (`= 1 - self-discharge/decay`), which is usually in the range of 0.95 to 1 for electrical storages.': '',\n",
       " 'The maximum permissible level of charge in the battery (generally, it is when the battery is filled to its nominal capacity), represented by the value 1.0. Users can  also specify a certain value as a factor of the actual capacity.': '',\n",
       " 'The minimum permissible level of charge in the battery as a factor of the nominal capacity of the battery.': '',\n",
       " 'The maximum total capacity of an asset that can be installed at the project site. This includes the installed and the also the maximum additional capacity possible. An example would be that a roof can only carry 50 kWp PV (maximumCap), whereas the installed capacity is already 10 kWp. The optimization would only be allowed to add 40 kWp PV at maximum.': '',\n",
       " 'Price of energy carrier sourced from the utility grid.': '',\n",
       " 'Price received for feeding electricity into the grid.': '',\n",
       " 'Price to be paid additionally for energy-consumption based on the peak demand of a given period.': '',\n",
       " 'Number of reference periods in one year for the peak demand pricing.': '',\n",
       " 'The share of renewables in the generation mix of the energy supplied by the DSO (utility).': '',\n",
       " 'Allow the user to tag as asset as renewable.': '',\n",
       " 'The already existing installed capacity in-place. If the project lasts longer than its remaining lifetime, its replacement costs will be taken into account.': '',\n",
       " 'The number of years the asset has already been in operation.': '',\n",
       " 'The number of days simulated with the energy system model.': '',\n",
       " 'Length of the time-steps.': '',\n",
       " 'The data and time on which the simulation starts at the first step.': ''}"
      ]
     },
     "execution_count": 40,
     "metadata": {},
     "output_type": "execute_result"
    }
   ],
   "source": [
    "b"
   ]
  }
 ],
 "metadata": {
  "kernelspec": {
   "display_name": "Python 3 (ipykernel)",
   "language": "python",
   "name": "python3"
  },
  "language_info": {
   "codemirror_mode": {
    "name": "ipython",
    "version": 3
   },
   "file_extension": ".py",
   "mimetype": "text/x-python",
   "name": "python",
   "nbconvert_exporter": "python",
   "pygments_lexer": "ipython3",
   "version": "3.8.0"
  }
 },
 "nbformat": 4,
 "nbformat_minor": 5
}
